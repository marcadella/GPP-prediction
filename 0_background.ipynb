{
 "cells": [
  {
   "cell_type": "markdown",
   "id": "7e1319ca-910a-425a-917b-f9f8e4a117e8",
   "metadata": {},
   "source": [
    "# Background"
   ]
  },
  {
   "cell_type": "markdown",
   "id": "05f1628e-cb85-481a-90c4-71b73395044e",
   "metadata": {},
   "source": [
    "## Problem description\n",
    "\n",
    "Advancement in environmental data collection and standardization has led to the establishment of datasets of long time series of environmental data sampling many biotopes worldwide, such as [FluxNet2015](https://fluxnet.org/data/fluxnet2015-dataset/).\n",
    "Environmental variables from this dataset include variables measured locally with a half-hourly resolution such as temperature, precipitation, air pressure, and various variables related to gas fluxes.\n",
    "Other datasets, such as [MODIS](https://modis.gsfc.nasa.gov/data/), propose variables collected through remote sensing technology. Examples are the Leaf Area Index (LAI) and the fraction of Absorbed Photosynthetically Active Radiation (fAPAR).\n",
    "\n",
    "One interesting variable provided by FluxNet2015 is the Gross Primary Product (GPP) which is the brut carbon flux entering the ecosystem via photosynthesis.\n",
    "In other words, it estimates the rate of capture of CO2 from the atmosphere by vegetation ecosystems (which is compensated by the re-emission of carbon from other processes such as respiration) and is therefore an important metric in the context of global warming and goals of achieving net-zero in 2050.\n",
    "\n",
    "The questions I propose to examine are:\n",
    "- How well is it possible to model GPP from local and/or remote sensed data using machine learning techniques?\n",
    "- How well do models generalize through time and across vegetation types?"
   ]
  },
  {
   "cell_type": "markdown",
   "id": "3bfb1de7-fee8-42a1-9ef1-3bd445675749",
   "metadata": {},
   "source": [
    "## Definitions of common variables\n",
    "\n",
    "There are many parameters which influence or characterize plant ecosystems.\n",
    "We describe here the ones which are found in the dataset."
   ]
  },
  {
   "cell_type": "markdown",
   "id": "21b66423-8881-4fb1-9854-1775b3b253e9",
   "metadata": {},
   "source": [
    "### Meteorological and chemical\n",
    "\n",
    "| Variable  | Description |\n",
    "|-----------|---------------------------------------------------------------------------|\n",
    "| P   | Precipitation             |\n",
    "| TA  | Air temperature           |\n",
    "| WS  | Wind speed                |\n",
    "| PA  | Air pressure              |\n",
    "| VPD | Vapor pressure deficit    |\n",
    "| CO2 |CO2 concentration          |"
   ]
  },
  {
   "cell_type": "markdown",
   "id": "52c9b996-27c3-4876-a872-853a4da292f6",
   "metadata": {},
   "source": [
    "### Fluxes\n",
    "\n",
    "#### CO2 fluxes\n",
    "\n",
    "| Variable  | Description |\n",
    "|-----------|---------------------------------------------------------------------------|\n",
    "| GPP       | Gross primary product (incoming flux of CO2 in the ecosystem)             |\n",
    "| RECO      | Respiration ecosystem (outgoing flux of CO2 from the ecosystem)           |\n",
    "| NEE       | Net ecosystem exchange (net CO2 flux)                                     |\n",
    "\n",
    "#### Radiative fluxes\n",
    "\n",
    "| Variable          | Description |\n",
    "|-----------|---------------------------------------------------------------------------|\n",
    "| SW_IN_F_MDS       | Incoming shortwave radiation                                       |\n",
    "| LW_IN_F_MDS       | Incoming longwave radiation                                        |\n",
    "| NETRAD            | Net radiation                                                      |\n",
    "| USTAR             | Water friction velocity (u*-threshold method)                      |\n",
    "| SW_OUT            | Shortwave radiation, outgoing                                             \n",
    "\n",
    "#### Heat fluxes\n",
    "\n",
    "| Variable          | Description |\n",
    "|-----------|---------------------------------------------------------------------------|\n",
    "| LE_F_MDS          | Latent heat flux                                                    |\n",
    "| H_F_MDS           | Sensible heat flux                                                  |"
   ]
  },
  {
   "cell_type": "markdown",
   "id": "e6d832d1-0636-4751-854d-94d47709052e",
   "metadata": {},
   "source": [
    "### Remote sensed variables\n",
    "\n",
    "#### Leaf Area Index (LAI)\n",
    "\n",
    "The Leaf Area Index ([LAI](https://en.wikipedia.org/wiki/Leaf_area_index)) expresses the leaf area per unit ground surface area of a canopy and is commonly used as an indicator of the growth rate of plants.\n",
    "LAI is defined as the one-sided green leaf area per unit ground surface area in broadleaf canopies. In conifers, it is defined as half of the total needle surface area per unit ground surface area.\n",
    "\n",
    "#### Fraction of absorbed photosynthetically active radiation (fAPAR)\n",
    "\n",
    "The Fraction of Absorbed Photosynthetically Active Radiation ([fAPAR](https://en.wikipedia.org/wiki/Fraction_of_absorbed_photosynthetically_active_radiation)) is the fraction of the incoming solar radiation in the photosynthetically active radiation spectral region that is absorbed by a photosynthetic organism, typically describing the light absorption across an integrated plant canopy."
   ]
  },
  {
   "cell_type": "markdown",
   "id": "0f275ea5-873e-4bbf-8aa6-918a231b1d8a",
   "metadata": {
    "jp-MarkdownHeadingCollapsed": true,
    "tags": []
   },
   "source": [
    "### IGBP classification\n",
    "\n",
    "The IGBP classification defines 17 basic types of land cover defined by the International Geosphere Biosphere Programme (IGBP): 11 types of natural vegetation classification, 3 types of land use and land inlays, and 3 types of non-vegetation land classification.\n",
    "Examples are grassland, cropland, evergreen needleleaf forest.\n",
    "The complete list is available [here](https://fluxnet.org/data/badm-data-templates/igbp-classification/)."
   ]
  }
 ],
 "metadata": {
  "kernelspec": {
   "display_name": "Python [conda env:adsml] *",
   "language": "python",
   "name": "conda-env-adsml-py"
  },
  "language_info": {
   "codemirror_mode": {
    "name": "ipython",
    "version": 3
   },
   "file_extension": ".py",
   "mimetype": "text/x-python",
   "name": "python",
   "nbconvert_exporter": "python",
   "pygments_lexer": "ipython3",
   "version": "3.9.7"
  }
 },
 "nbformat": 4,
 "nbformat_minor": 5
}
